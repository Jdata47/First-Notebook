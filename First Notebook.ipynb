{
 "cells": [
  {
   "cell_type": "code",
   "execution_count": 1,
   "id": "3d29a681",
   "metadata": {},
   "outputs": [
    {
     "name": "stdout",
     "output_type": "stream",
     "text": [
      "Hello World\n"
     ]
    }
   ],
   "source": [
    "# i want to print hello world\n",
    "print(\"Hello World\")"
   ]
  },
  {
   "cell_type": "code",
   "execution_count": 2,
   "id": "4a3fbb92",
   "metadata": {},
   "outputs": [],
   "source": [
    "instructor = \"Joshua\""
   ]
  },
  {
   "cell_type": "code",
   "execution_count": 5,
   "id": "610311b1",
   "metadata": {},
   "outputs": [
    {
     "name": "stdout",
     "output_type": "stream",
     "text": [
      "Joshua\n"
     ]
    }
   ],
   "source": [
    "print(instructor)"
   ]
  },
  {
   "cell_type": "code",
   "execution_count": 7,
   "id": "b33f85b2",
   "metadata": {},
   "outputs": [
    {
     "name": "stdout",
     "output_type": "stream",
     "text": [
      "what is your name:Joshua\n",
      "Joshua\n"
     ]
    }
   ],
   "source": [
    "# i want to ask \n",
    "name = input(\"what is your name:\")\n",
    "print(name)"
   ]
  },
  {
   "cell_type": "code",
   "execution_count": 8,
   "id": "467d65de",
   "metadata": {},
   "outputs": [],
   "source": [
    "age = 30"
   ]
  },
  {
   "cell_type": "code",
   "execution_count": 9,
   "id": "bc61dcaf",
   "metadata": {
    "collapsed": true
   },
   "outputs": [
    {
     "data": {
      "text/plain": [
       "int"
      ]
     },
     "execution_count": 9,
     "metadata": {},
     "output_type": "execute_result"
    }
   ],
   "source": [
    "type(age)"
   ]
  },
  {
   "cell_type": "code",
   "execution_count": 10,
   "id": "33c636a4",
   "metadata": {
    "collapsed": true
   },
   "outputs": [
    {
     "name": "stdout",
     "output_type": "stream",
     "text": [
      "<class 'int'>\n"
     ]
    }
   ],
   "source": [
    "print(type(age))"
   ]
  },
  {
   "cell_type": "code",
   "execution_count": 11,
   "id": "0e864042",
   "metadata": {},
   "outputs": [],
   "source": [
    "boolean = True"
   ]
  },
  {
   "cell_type": "code",
   "execution_count": 12,
   "id": "bd91bf1e",
   "metadata": {},
   "outputs": [
    {
     "name": "stdout",
     "output_type": "stream",
     "text": [
      "<class 'bool'>\n"
     ]
    }
   ],
   "source": [
    "print(type(boolean))"
   ]
  },
  {
   "cell_type": "code",
   "execution_count": 17,
   "id": "6f79efae",
   "metadata": {},
   "outputs": [],
   "source": [
    "age2 = 40\n",
    "name = \"Joshua\""
   ]
  },
  {
   "cell_type": "code",
   "execution_count": 19,
   "id": "0a85f94f",
   "metadata": {},
   "outputs": [
    {
     "name": "stdout",
     "output_type": "stream",
     "text": [
      "Joshua is 40 years old\n"
     ]
    }
   ],
   "source": [
    "print(f\"{name} is {age2} years old\")"
   ]
  },
  {
   "cell_type": "code",
   "execution_count": 20,
   "id": "7f8dffda",
   "metadata": {},
   "outputs": [
    {
     "name": "stdout",
     "output_type": "stream",
     "text": [
      "josh\n"
     ]
    }
   ],
   "source": [
    "student = \"josh\"\n",
    "print(student)"
   ]
  },
  {
   "cell_type": "code",
   "execution_count": 21,
   "id": "bf7fd322",
   "metadata": {},
   "outputs": [
    {
     "data": {
      "text/plain": [
       "'JOSH'"
      ]
     },
     "execution_count": 21,
     "metadata": {},
     "output_type": "execute_result"
    }
   ],
   "source": [
    "student.capitalize()\n",
    "student.upper()"
   ]
  },
  {
   "cell_type": "code",
   "execution_count": 24,
   "id": "606213c7",
   "metadata": {},
   "outputs": [
    {
     "name": "stdout",
     "output_type": "stream",
     "text": [
      "Hello, Joshua\n"
     ]
    }
   ],
   "source": [
    "# I want to to define name variable\n",
    "name2 = \"Joshua\"\n",
    "# I want to print Joshua\n",
    "print(f\"Hello, {name2}\")    "
   ]
  },
  {
   "cell_type": "code",
   "execution_count": 27,
   "id": "8a48e68c",
   "metadata": {},
   "outputs": [
    {
     "name": "stdout",
     "output_type": "stream",
     "text": [
      "68°F is equal to 20.0°C\n"
     ]
    }
   ],
   "source": [
    "fahrenheit_temp = 68\n",
    "celsius = (fahrenheit_temp - 32) / 1.8\n",
    "print(f\"{fahrenheit_temp}°F is equal to {celsius}°C\")"
   ]
  },
  {
   "cell_type": "code",
   "execution_count": 29,
   "id": "dc0a57b8",
   "metadata": {},
   "outputs": [
    {
     "name": "stdout",
     "output_type": "stream",
     "text": [
      "13.0\n"
     ]
    }
   ],
   "source": [
    "print((4+3)*(2**2)/2-1)"
   ]
  },
  {
   "cell_type": "code",
   "execution_count": 30,
   "id": "03b04e26",
   "metadata": {},
   "outputs": [
    {
     "name": "stdout",
     "output_type": "stream",
     "text": [
      "False\n"
     ]
    }
   ],
   "source": [
    "var1 = 5\n",
    "var2 = 10\n",
    "print(var1==var2)"
   ]
  },
  {
   "cell_type": "code",
   "execution_count": 31,
   "id": "26143739",
   "metadata": {},
   "outputs": [
    {
     "name": "stdout",
     "output_type": "stream",
     "text": [
      "True\n"
     ]
    }
   ],
   "source": [
    "var1 = 5\n",
    "var2 = 10\n",
    "print(var1!=var2)"
   ]
  },
  {
   "cell_type": "code",
   "execution_count": 32,
   "id": "8a4bdbd3",
   "metadata": {},
   "outputs": [
    {
     "name": "stdout",
     "output_type": "stream",
     "text": [
      "False\n"
     ]
    }
   ],
   "source": [
    "var1 = 5\n",
    "var2 = 10\n",
    "print(var1>var2)"
   ]
  },
  {
   "cell_type": "code",
   "execution_count": 33,
   "id": "dfc717a9",
   "metadata": {},
   "outputs": [
    {
     "name": "stdout",
     "output_type": "stream",
     "text": [
      "False\n"
     ]
    }
   ],
   "source": [
    "var1 = 5\n",
    "var2 = 10\n",
    "print(var1>=var2)"
   ]
  },
  {
   "cell_type": "code",
   "execution_count": 34,
   "id": "2ad9a108",
   "metadata": {},
   "outputs": [
    {
     "name": "stdout",
     "output_type": "stream",
     "text": [
      "True\n"
     ]
    }
   ],
   "source": [
    "var1 = 5\n",
    "var2 = 10\n",
    "print(var1<=var2)"
   ]
  },
  {
   "cell_type": "code",
   "execution_count": 35,
   "id": "47d3c329",
   "metadata": {},
   "outputs": [
    {
     "name": "stdout",
     "output_type": "stream",
     "text": [
      "False\n"
     ]
    }
   ],
   "source": [
    "var1 = 5\n",
    "var2 = 10\n",
    "print(var1>var2)"
   ]
  },
  {
   "cell_type": "code",
   "execution_count": 36,
   "id": "593fd71b",
   "metadata": {},
   "outputs": [
    {
     "name": "stdout",
     "output_type": "stream",
     "text": [
      "True\n"
     ]
    }
   ],
   "source": [
    "var1 = 5\n",
    "var2 = 10\n",
    "print(var1<var2)"
   ]
  },
  {
   "cell_type": "code",
   "execution_count": 42,
   "id": "fa4fb7eb",
   "metadata": {},
   "outputs": [
    {
     "name": "stdout",
     "output_type": "stream",
     "text": [
      "True\n"
     ]
    }
   ],
   "source": [
    "var3 = \"Emmanurl\"\n",
    "var4 = \"Joshua\"\n",
    "print(var3.startswith('E') or var.endwith('A'))"
   ]
  },
  {
   "cell_type": "code",
   "execution_count": 44,
   "id": "ac5c35ec",
   "metadata": {},
   "outputs": [
    {
     "name": "stdout",
     "output_type": "stream",
     "text": [
      "This name start with E\n"
     ]
    }
   ],
   "source": [
    "if var3.startswith('E'):\n",
    "    print('This name start with E')\n",
    "else:\n",
    "    print('This name does not start with E')   "
   ]
  },
  {
   "cell_type": "code",
   "execution_count": 68,
   "id": "dc10a1e6",
   "metadata": {},
   "outputs": [
    {
     "name": "stdout",
     "output_type": "stream",
     "text": [
      "This name start with E\n"
     ]
    }
   ],
   "source": [
    "if var3.startswith('E'):\n",
    "    print('This name start with E')\n",
    "elif 'e' in var3:\n",
    "    print('This name contains e')\n",
    "else:\n",
    "    print('This name does not start with E')"
   ]
  },
  {
   "cell_type": "code",
   "execution_count": 69,
   "id": "95193bb3",
   "metadata": {},
   "outputs": [
    {
     "name": "stdout",
     "output_type": "stream",
     "text": [
      "Excellent\n"
     ]
    }
   ],
   "source": [
    "var4_score = 90\n",
    "if var4_score >=90:\n",
    "    print('Excellent')\n",
    "elif var4_score>= 70 and var4_score<= 89:\n",
    "    print(\"Good\")\n",
    "else:\n",
    "    print(\"Below Average\")"
   ]
  },
  {
   "cell_type": "code",
   "execution_count": null,
   "id": "de3883c7",
   "metadata": {},
   "outputs": [],
   "source": [
    " "
   ]
  }
 ],
 "metadata": {
  "kernelspec": {
   "display_name": "Python 3 (ipykernel)",
   "language": "python",
   "name": "python3"
  },
  "language_info": {
   "codemirror_mode": {
    "name": "ipython",
    "version": 3
   },
   "file_extension": ".py",
   "mimetype": "text/x-python",
   "name": "python",
   "nbconvert_exporter": "python",
   "pygments_lexer": "ipython3",
   "version": "3.11.3"
  }
 },
 "nbformat": 4,
 "nbformat_minor": 5
}
